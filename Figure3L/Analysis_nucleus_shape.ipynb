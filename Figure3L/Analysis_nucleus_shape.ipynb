{
 "cells": [
  {
   "cell_type": "code",
   "execution_count": 46,
   "id": "b06b81eb",
   "metadata": {},
   "outputs": [],
   "source": [
    "import os\n",
    "import numpy as np\n",
    "import pandas as pd"
   ]
  },
  {
   "cell_type": "code",
   "execution_count": 47,
   "id": "ccdb2a05",
   "metadata": {},
   "outputs": [],
   "source": [
    "path = \"nucleus_shape\"\n",
    "ctl_files = os.listdir(os.path.join(path, \"ctl\"))\n",
    "apo_files = os.listdir(os.path.join(path, \"apo\"))"
   ]
  },
  {
   "cell_type": "code",
   "execution_count": 48,
   "id": "84058fe2",
   "metadata": {
    "scrolled": true
   },
   "outputs": [
    {
     "name": "stdout",
     "output_type": "stream",
     "text": [
      "c5_20210602-LFNG_Myo_H2BGFP_40xzoom2_90perc_30px-2_5sec_c_e2_3_26um_Time Alignment_shape.csv\n",
      "c6_20210602-LFNG_Myo_H2BGFP_40xzoom2_90perc_30px-2_5sec_c_e2_4_26um_Time Alignment_shape.csv\n",
      "c1_20210602-LFNG_Myo_H2BGFP_40xzoom2_90perc_30px-2_5sec_c_e1_shape.csv\n",
      "c2_20210602-LFNG_Myo_H2BGFP_40xzoom2_90perc_30px-2_5sec_c_e2_6_Time Alignment_shape.csv\n",
      "c4_20210602-LFNG_Myo_H2BGFP_40xzoom2_90perc_30px-2_5sec_c_e2_2_23um_Time Alignment_shape.csv\n",
      "c7_20210602-LFNG_Myo_H2BGFP_40xzoom2_90perc_30px-2_5sec_c_e2_5_Time Alignment_shape.csv\n",
      "c3_20210602-LFNG_Myo_H2BGFP_40xzoom2_90perc_30px-2_5sec_c_e2_1_14um_Time Alignment_shape.csv\n"
     ]
    },
    {
     "name": "stderr",
     "output_type": "stream",
     "text": [
      "<ipython-input-48-7a0a60e1edd1>:5: ParserWarning: Falling back to the 'python' engine because the 'c' engine does not support regex separators (separators > 1 char and different from '\\s+' are interpreted as regex); you can avoid this warning by specifying engine='python'.\n",
      "  datas = pd.read_csv(os.path.join(path, \"ctl\", cf), delimiter=';|,', index_col='Unnamed: 0')\n"
     ]
    }
   ],
   "source": [
    "result_ctl = pd.DataFrame(columns=['filename', 'substract'])\n",
    "col = \"Length\"\n",
    "for cf in ctl_files:\n",
    "    print(cf)\n",
    "    datas = pd.read_csv(os.path.join(path, \"ctl\", cf), delimiter=';|,', index_col='Unnamed: 0')\n",
    "    \n",
    "    ratio1 = datas.loc[2][col] / datas.loc[3][col]\n",
    "    ratio2 = datas.loc[5][col] / datas.loc[6][col]\n",
    "    \n",
    "    substract = ratio1 - ratio2\n",
    "    result_ctl=result_ctl.append({'filename': cf.split('_')[0], \n",
    "                  'substract': substract}, ignore_index=True)\n",
    "    \n",
    "result_ctl.sort_values('filename', inplace=True)\n",
    "result_ctl.reset_index(inplace=True, drop=True)\n",
    "result_ctl.to_csv('ctl.csv')"
   ]
  },
  {
   "cell_type": "code",
   "execution_count": 49,
   "id": "0c77de31",
   "metadata": {},
   "outputs": [
    {
     "name": "stdout",
     "output_type": "stream",
     "text": [
      "apo7_20210602-LFNG_Myo_H2BGFP_40xzoom2_90perc_30px-2_5sec_apo_e2_5-Time Alignment_shape.csv\n",
      "apo4_20210602-LFNG_Myo_H2BGFP_40xzoom2_90perc_30px-2_5sec_apo_e2_1_29um-Time Alignment_shape.csv\n",
      "apo1_20210602-LFNG_Myo_H2BGFP_40xzoom2_90perc_30px-2_5sec_apo_e1_1_shape.csv\n",
      "apo6_20210602-LFNG_Myo_H2BGFP_40xzoom2_90perc_30px-2_5sec_apo_e2_4-Time Alignment_shape.csv\n",
      "apo5_20210602-LFNG_Myo_H2BGFP_40xzoom2_90perc_30px-2_5sec_apo_e2_3-Time Alignment_shape.csv\n",
      "apo2_20210602-LFNG_Myo_H2BGFP_40xzoom2_90perc_30px-2_5sec_apo_e1_2_shape.csv\n",
      "apo3_20210602-LFNG_Myo_H2BGFP_40xzoom2_90perc_30px-2_5sec_apo_e1_4_shape.csv\n"
     ]
    },
    {
     "name": "stderr",
     "output_type": "stream",
     "text": [
      "<ipython-input-49-50bd030ebdd4>:5: ParserWarning: Falling back to the 'python' engine because the 'c' engine does not support regex separators (separators > 1 char and different from '\\s+' are interpreted as regex); you can avoid this warning by specifying engine='python'.\n",
      "  datas = pd.read_csv(os.path.join(path, \"apo\", cf), delimiter=';|,', index_col='Unnamed: 0')\n"
     ]
    }
   ],
   "source": [
    "result_apo = pd.DataFrame(columns=['filename', 'substract'])\n",
    "col = \"Length\"\n",
    "for cf in apo_files:\n",
    "    print(cf)\n",
    "    datas = pd.read_csv(os.path.join(path, \"apo\", cf), delimiter=';|,', index_col='Unnamed: 0')\n",
    "    \n",
    "    ratio1 = datas.loc[2][col] / datas.loc[3][col]\n",
    "    ratio2 = datas.loc[5][col] / datas.loc[6][col]\n",
    "    \n",
    "    substract = ratio1 - ratio2\n",
    "    result_apo=result_apo.append({'filename': cf.split('_')[0], \n",
    "                  'substract': substract}, ignore_index=True)\n",
    "    \n",
    "result_apo.sort_values('filename', inplace=True)\n",
    "result_apo.reset_index(inplace=True, drop=True)\n",
    "result_apo.to_csv('apo.csv')"
   ]
  },
  {
   "cell_type": "code",
   "execution_count": 74,
   "id": "e081ec89",
   "metadata": {},
   "outputs": [],
   "source": [
    "result = pd.DataFrame(np.array([result_ctl.substract, result_apo.substract]).T, \n",
    "                      columns=['ctl', 'apo'],\n",
    "                     index=np.arange(1,8))\n",
    "result.to_csv('result.csv')"
   ]
  },
  {
   "cell_type": "code",
   "execution_count": null,
   "id": "9ec7640c",
   "metadata": {},
   "outputs": [],
   "source": []
  },
  {
   "cell_type": "code",
   "execution_count": null,
   "id": "58b6f414",
   "metadata": {},
   "outputs": [],
   "source": []
  },
  {
   "cell_type": "code",
   "execution_count": null,
   "id": "8625dd04",
   "metadata": {},
   "outputs": [],
   "source": []
  },
  {
   "cell_type": "code",
   "execution_count": null,
   "id": "eb7c2f4f",
   "metadata": {},
   "outputs": [],
   "source": []
  },
  {
   "cell_type": "code",
   "execution_count": null,
   "id": "eb848c28",
   "metadata": {},
   "outputs": [],
   "source": []
  },
  {
   "cell_type": "code",
   "execution_count": null,
   "id": "9d1c081a",
   "metadata": {},
   "outputs": [],
   "source": []
  }
 ],
 "metadata": {
  "kernelspec": {
   "display_name": "Python 3",
   "language": "python",
   "name": "python3"
  },
  "language_info": {
   "codemirror_mode": {
    "name": "ipython",
    "version": 3
   },
   "file_extension": ".py",
   "mimetype": "text/x-python",
   "name": "python",
   "nbconvert_exporter": "python",
   "pygments_lexer": "ipython3",
   "version": "3.8.10"
  }
 },
 "nbformat": 4,
 "nbformat_minor": 5
}
